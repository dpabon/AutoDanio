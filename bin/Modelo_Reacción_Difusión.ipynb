{
 "metadata": {
  "name": "",
  "signature": "sha256:642c9e93501d11f2527f862241a003efdd1eff0da388bcd1a4239568e526f328"
 },
 "nbformat": 3,
 "nbformat_minor": 0,
 "worksheets": [
  {
   "cells": [
    {
     "cell_type": "markdown",
     "metadata": {},
     "source": [
      "##Librerias necesarias##"
     ]
    },
    {
     "cell_type": "code",
     "collapsed": false,
     "input": [
      "import numpy as np\n",
      "import matplotlib.pyplot as plt\n",
      "%matplotlib inline"
     ],
     "language": "python",
     "metadata": {},
     "outputs": [],
     "prompt_number": 1
    },
    {
     "cell_type": "markdown",
     "metadata": {},
     "source": [
      "##Input##"
     ]
    },
    {
     "cell_type": "code",
     "collapsed": false,
     "input": [
      "a = 2.8e-4\n",
      "b = 5e-3\n",
      "tau = .1\n",
      "k = -.005"
     ],
     "language": "python",
     "metadata": {},
     "outputs": [],
     "prompt_number": 2
    },
    {
     "cell_type": "markdown",
     "metadata": {},
     "source": [
      "##Parametros de la representaci\u00f3n##"
     ]
    },
    {
     "cell_type": "code",
     "collapsed": false,
     "input": [
      "size = 100  # size of the 2D grid\n",
      "dx = 2./size  # space step\n",
      "T = 10.0  # total time\n",
      "dt = .9 * dx**2/2  # time step\n",
      "n = int(T/dt)"
     ],
     "language": "python",
     "metadata": {},
     "outputs": [],
     "prompt_number": 3
    },
    {
     "cell_type": "markdown",
     "metadata": {},
     "source": [
      "##Modelo##"
     ]
    },
    {
     "cell_type": "code",
     "collapsed": false,
     "input": [
      "\n",
      "U = np.random.rand(size, size)\n",
      "V = np.random.rand(size, size)\n",
      "\n",
      "def laplacian(Z): #[laplaciano def (Z):]\n",
      "    Ztop = Z[0:-2,1:-1] #[ZTOP = Z [0: -2,1 -1]]\n",
      "    Zleft = Z[1:-1,0:-2] #[Zleft = Z [1: 1,0: -2]]\n",
      "    Zbottom = Z[2:,1:-1] #[Zbottom = Z [2: 1: -1]]\n",
      "    Zright = Z[1:-1,2:] #[Zright = Z [1: 1,2:]]\n",
      "    Zcenter = Z[1:-1,1:-1]# [Zcenter = Z [1: 1,1: -1]]\n",
      "    return (Ztop + Zleft + Zbottom + Zright - 4 * Zcenter) / dx**2# [(ZTOP + Zleft + Zbottom + Zright - 4 * Zcenter) / dx ** 2]\n",
      "\n",
      "\n",
      "    # We simulate the PDE with the finite difference method.\n",
      "for i in range(n):\n",
      "    # We compute the Laplacian of u and v.\n",
      "    deltaU = laplacian(U)\n",
      "    deltaV = laplacian(V)\n",
      "    # We take the values of u and v inside the grid.\n",
      "    Uc = U[1:-1,1:-1]\n",
      "    Vc = V[1:-1,1:-1]\n",
      "    # We update the variables.\n",
      "    U[1:-1,1:-1], V[1:-1,1:-1] = \\\n",
      "        Uc + dt * (a * deltaU + Uc - Uc**3 - Vc + k), \\\n",
      "        Vc + dt * (b * deltaV + Uc - Vc) / tau\n",
      "    # Neumann conditions: derivatives at the edges\n",
      "    # are null.\n",
      "    for Z in (U, V):\n",
      "        Z[0,:] = Z[1,:]\n",
      "        Z[-1,:] = Z[-2,:] #F\n"
     ],
     "language": "python",
     "metadata": {},
     "outputs": [],
     "prompt_number": 4
    },
    {
     "cell_type": "markdown",
     "metadata": {},
     "source": [
      "##Graficas##"
     ]
    },
    {
     "cell_type": "code",
     "collapsed": false,
     "input": [
      "plt.imshow(U, cmap=plt.cm.copper, extent=[-1,1,-1,1]);# [plt.imshow (U, cmap = plt.cm.copper, medida = [- 1,1, -1,1]);]"
     ],
     "language": "python",
     "metadata": {},
     "outputs": [
      {
       "metadata": {},
       "output_type": "pyout",
       "prompt_number": 10,
       "text": [
        "<matplotlib.image.AxesImage at 0x7f7f49f7d110>"
       ]
      }
     ],
     "prompt_number": 10
    },
    {
     "cell_type": "code",
     "collapsed": false,
     "input": [
      "plt.xticks([]); plt.yticks([]); #[plt.xticks ([]); plt.yticks ([]);]"
     ],
     "language": "python",
     "metadata": {},
     "outputs": [
      {
       "metadata": {},
       "output_type": "pyout",
       "prompt_number": 11,
       "text": [
        "([], <a list of 0 Text yticklabel objects>)"
       ]
      }
     ],
     "prompt_number": 11
    }
   ],
   "metadata": {}
  }
 ]
}